{
 "cells": [
  {
   "cell_type": "code",
   "execution_count": 1,
   "id": "38eb3d4b",
   "metadata": {},
   "outputs": [
    {
     "name": "stdout",
     "output_type": "stream",
     "text": [
      "Aryan is visiting the doctor for a check-up.\n",
      "Dr. Sukuna is performing an external examination on Aryan.\n",
      "Body temperature: 98.0 °F\n",
      "Blood Test result: 102 mmHg\n",
      "Blood Pressure Test result: 104/82 mmHg\n"
     ]
    }
   ],
   "source": [
    "from abc import ABC, abstractmethod\n",
    "import random\n",
    "\n",
    "class Patient:\n",
    "    def __init__(self, name):\n",
    "        self.name = name\n",
    "\n",
    "    def visit_doctor(self, doctor):\n",
    "        print(f\"{self.name} is visiting the doctor for a check-up.\")\n",
    "        doctor.perform_check_up(self)\n",
    "\n",
    "class Doctor(ABC):\n",
    "    def __init__(self, name):\n",
    "        self.name = name\n",
    "\n",
    "    @abstractmethod\n",
    "    def perform_check_up(self, patient):\n",
    "        pass\n",
    "\n",
    "\n",
    "class MedicalTest(ABC):\n",
    "    def __init__(self, name):\n",
    "        self.name = name\n",
    "\n",
    "    @abstractmethod\n",
    "    def perform_test(self):\n",
    "        pass\n",
    "\n",
    "class BloodTest(MedicalTest):\n",
    "    def perform_test(self):\n",
    "        result = random.randint(95, 105)\n",
    "        return f\"{self.name} result: {result} mmHg\"\n",
    "\n",
    "class BloodPressureTest(MedicalTest):\n",
    "    def perform_test(self):\n",
    "        systolic = random.randint(90, 140)\n",
    "        diastolic = random.randint(60, 90)\n",
    "        return f\"{self.name} result: {systolic}/{diastolic} mmHg\"\n",
    "\n",
    "class ExternalExamination(Doctor):\n",
    "    def perform_check_up(self, patient):\n",
    "        print(f\"{self.name} is performing an external examination on {patient.name}.\")\n",
    "        temperature = round(random.uniform(97.0, 99.0), 1)\n",
    "        print(f\"Body temperature: {temperature} °F\")\n",
    "\n",
    "patient = Patient(\"Aryan\")\n",
    "doctor = ExternalExamination(\"Dr. Sukuna\")\n",
    "blood_test = BloodTest(\"Blood Test\")\n",
    "blood_pressure_test = BloodPressureTest(\"Blood Pressure Test\")\n",
    "\n",
    "patient.visit_doctor(doctor)\n",
    "print(blood_test.perform_test())\n",
    "print(blood_pressure_test.perform_test())\n"
   ]
  },
  {
   "cell_type": "code",
   "execution_count": null,
   "id": "99ffd96c",
   "metadata": {},
   "outputs": [],
   "source": []
  }
 ],
 "metadata": {
  "kernelspec": {
   "display_name": "Python 3 (ipykernel)",
   "language": "python",
   "name": "python3"
  },
  "language_info": {
   "codemirror_mode": {
    "name": "ipython",
    "version": 3
   },
   "file_extension": ".py",
   "mimetype": "text/x-python",
   "name": "python",
   "nbconvert_exporter": "python",
   "pygments_lexer": "ipython3",
   "version": "3.9.12"
  }
 },
 "nbformat": 4,
 "nbformat_minor": 5
}
