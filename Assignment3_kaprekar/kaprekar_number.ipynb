{
 "cells": [
  {
   "cell_type": "code",
   "execution_count": 1,
   "id": "60a6fe33",
   "metadata": {},
   "outputs": [
    {
     "name": "stdout",
     "output_type": "stream",
     "text": [
      "Enter a four digit number: 7876\n",
      "Iteration 1: 8776 - 6778 = 1998\n",
      "Iteration 2: 9981 - 1899 = 8082\n",
      "Iteration 3: 8820 - 288 = 8532\n",
      "Iteration 4: 8532 - 2358 = 6174\n",
      "Kaprekar's routine reached 6174!\n"
     ]
    }
   ],
   "source": [
    "def get_digits(number):\n",
    "    thousands = number // 1000\n",
    "    hundreds = (number % 1000) // 100\n",
    "    tens = (number % 100) // 10\n",
    "    ones = number % 10\n",
    "\n",
    "    return [thousands, hundreds, tens, ones]\n",
    "\n",
    "def form_number(digits):\n",
    "    return digits[0] * 1000 + digits[1] * 100 + digits[2] * 10 + digits[3]\n",
    "\n",
    "def kaprekar_routine(number):\n",
    "    iterations = 0\n",
    "\n",
    "    while number != 6174:\n",
    "        if len(set(str(number))) == 1:\n",
    "            print(\"All digits are identical. Kaprekar's routine will not converge.\")\n",
    "            break\n",
    "\n",
    "        digits = get_digits(number)\n",
    "        desc_digits = sorted(digits, reverse=True)\n",
    "        asc_digits = sorted(digits)\n",
    "\n",
    "        desc_number = form_number(desc_digits)\n",
    "        asc_number = form_number(asc_digits)\n",
    "\n",
    "        number = desc_number - asc_number\n",
    "\n",
    "        iterations += 1\n",
    "        print(f\"Iteration {iterations}: {desc_number} - {asc_number} = {number}\")\n",
    "\n",
    "    if number == 6174:\n",
    "        print(\"Kaprekar's routine reached 6174!\")\n",
    "\n",
    "number = int(input(\"Enter a four digit number: \"))\n",
    "kaprekar_routine(number)\n"
   ]
  },
  {
   "cell_type": "code",
   "execution_count": null,
   "id": "8b8950f9",
   "metadata": {},
   "outputs": [],
   "source": []
  }
 ],
 "metadata": {
  "kernelspec": {
   "display_name": "Python 3 (ipykernel)",
   "language": "python",
   "name": "python3"
  },
  "language_info": {
   "codemirror_mode": {
    "name": "ipython",
    "version": 3
   },
   "file_extension": ".py",
   "mimetype": "text/x-python",
   "name": "python",
   "nbconvert_exporter": "python",
   "pygments_lexer": "ipython3",
   "version": "3.9.12"
  }
 },
 "nbformat": 4,
 "nbformat_minor": 5
}
