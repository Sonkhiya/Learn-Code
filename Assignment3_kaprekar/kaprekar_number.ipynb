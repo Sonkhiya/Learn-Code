def get_digits(number):
    thousands = number // 1000
    hundreds = (number % 1000) // 100
    tens = (number % 100) // 10
    ones = number % 10

    return [thousands, hundreds, tens, ones]

def form_number(digits):
    return digits[0] * 1000 + digits[1] * 100 + digits[2] * 10 + digits[3]

def kaprekar_routine(number):
    iterations = 0

    while number != 6174:
        if len(set(str(number))) == 1:
            print("All digits are identical. Kaprekar's routine will not converge.")
            break

        digits = get_digits(number)
        desc_digits = sorted(digits, reverse=True)
        asc_digits = sorted(digits)

        desc_number = form_number(desc_digits)
        asc_number = form_number(asc_digits)

        number = desc_number - asc_number

        iterations += 1
        print(f"Iteration {iterations}: {desc_number} - {asc_number} = {number}")

    if number == 6174:
        print("Kaprekar's routine reached 6174!")

number = int(input("Enter a four digit number: "))
kaprekar_routine(number)
