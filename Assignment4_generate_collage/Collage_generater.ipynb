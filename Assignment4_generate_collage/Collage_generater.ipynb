{
 "cells": [
  {
   "cell_type": "code",
   "execution_count": 45,
   "id": "05635140",
   "metadata": {},
   "outputs": [
    {
     "name": "stdout",
     "output_type": "stream",
     "text": [
      "Fetched 6 image URLs for death note\n",
      "Downloaded 6 images for death note\n",
      "Resized 6 images for death note\n"
     ]
    }
   ],
   "source": [
    "import requests\n",
    "from PIL import Image\n",
    "from io import BytesIO\n",
    "\n",
    "API_KEY = '6AUPv90T0JfvcB5HoIuo95PCOei9eqjhjsRor6HqFWpvm6c21yyoHRrt'\n",
    "BASE_URL = 'https://api.pexels.com/v1/'\n",
    "\n",
    "def fetch_image_urls(keyword, num_images=5):\n",
    "    api_key=API_KEY\n",
    "    headers = {'Authorization': api_key}\n",
    "    params = {'query': keyword, 'per_page': num_images}\n",
    "    response = requests.get(BASE_URL + 'search', headers=headers, params=params)\n",
    "    data = response.json()\n",
    "    photo_urls = [photo['src']['large'] for photo in data.get('photos', [])]\n",
    "    return photo_urls\n",
    "\n",
    "def download_images(urls):\n",
    "    images = []\n",
    "    for url in urls:\n",
    "        response = requests.get(url)\n",
    "        img = Image.open(BytesIO(response.content))\n",
    "        images.append(img)\n",
    "    return images\n",
    "\n",
    "def resize_images(images, target_width, target_height=None):\n",
    "    resized_images = []\n",
    "    for img in images:\n",
    "        aspect_ratio = img.width / img.height\n",
    "        new_height = int(target_width / aspect_ratio) if target_height is None else target_height\n",
    "        img_resized = img.resize((target_width, new_height), Image.ANTIALIAS)\n",
    "        resized_images.append(img_resized)\n",
    "    return resized_images\n",
    "\n",
    "def create_collage(images, num_images_per_row=3, spacing=10):\n",
    "    num_images = len(images)\n",
    "    rows = (num_images + num_images_per_row - 1) // num_images_per_row\n",
    "    width, height = images[0].size\n",
    "    collage_width = width * num_images_per_row + spacing * (num_images_per_row - 1)\n",
    "    collage_height = height * rows + spacing * (rows - 1)\n",
    "    collage = Image.new('RGB', (collage_width, collage_height), (255, 255, 255))\n",
    "    \n",
    "    for i in range(rows):\n",
    "        for j in range(num_images_per_row):\n",
    "            index = i * num_images_per_row + j\n",
    "            if index < num_images:\n",
    "                x = j * (width + spacing)\n",
    "                y = i * (height + spacing)\n",
    "                collage.paste(images[index], (x, y))\n",
    "    \n",
    "    return collage\n",
    "\n",
    "def main():\n",
    "    keyword = 'nature'\n",
    "    num_images = 6\n",
    "    resize_width = 500\n",
    "\n",
    "    image_urls = fetch_image_urls(keyword, num_images=num_images)\n",
    "    print(f\"Fetched {len(image_urls)} image URLs for {keyword}\")\n",
    "    \n",
    "    images = download_images(image_urls)\n",
    "    print(f\"Downloaded {len(images)} images for {keyword}\")\n",
    "\n",
    "    resized_images = resize_images(images, target_width=resize_width)\n",
    "    print(f\"Resized {len(resized_images)} images for {keyword}\")\n",
    "\n",
    "    collage = create_collage(resized_images, spacing=10)\n",
    "    collage.show()\n",
    "\n",
    "if __name__ == \"__main__\":\n",
    "    main()\n"
   ]
  },
  {
   "cell_type": "code",
   "execution_count": null,
   "id": "c0dc2b62",
   "metadata": {},
   "outputs": [],
   "source": []
  }
 ],
 "metadata": {
  "kernelspec": {
   "display_name": "Python 3 (ipykernel)",
   "language": "python",
   "name": "python3"
  },
  "language_info": {
   "codemirror_mode": {
    "name": "ipython",
    "version": 3
   },
   "file_extension": ".py",
   "mimetype": "text/x-python",
   "name": "python",
   "nbconvert_exporter": "python",
   "pygments_lexer": "ipython3",
   "version": "3.9.12"
  }
 },
 "nbformat": 4,
 "nbformat_minor": 5
}
